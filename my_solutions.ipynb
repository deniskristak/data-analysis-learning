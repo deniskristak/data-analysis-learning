{
 "cells": [
  {
   "cell_type": "code",
   "execution_count": 1,
   "metadata": {
    "ExecuteTime": {
     "start_time": "2023-04-04T00:48:41.691730Z",
     "end_time": "2023-04-04T00:48:43.082431Z"
    }
   },
   "outputs": [],
   "source": [
    "import numpy as np\n",
    "from mpl_toolkits.basemap import Basemap\n",
    "import pandas as pd\n",
    "import re\n",
    "import matplotlib.pyplot as plt\n",
    "from typing import List"
   ]
  },
  {
   "cell_type": "markdown",
   "metadata": {},
   "source": [
    "## Task 1: Read the CSV files containing the airline delay data into a single DataFrame.  Then display the total number of rows imported."
   ]
  },
  {
   "cell_type": "code",
   "execution_count": 2,
   "metadata": {
    "ExecuteTime": {
     "start_time": "2023-04-04T00:48:43.081181Z",
     "end_time": "2023-04-04T00:48:43.242863Z"
    }
   },
   "outputs": [],
   "source": [
    "df = pd.concat(\n",
    "    map(pd.read_csv, ['delays_2018.csv', 'delays_2019.csv']), ignore_index=True\n",
    ")"
   ]
  },
  {
   "cell_type": "code",
   "execution_count": 3,
   "metadata": {
    "ExecuteTime": {
     "start_time": "2023-04-04T00:48:43.221375Z",
     "end_time": "2023-04-04T00:48:43.243635Z"
    }
   },
   "outputs": [
    {
     "name": "stdout",
     "output_type": "stream",
     "text": [
      "Number of rows when first imported: 41177\n"
     ]
    }
   ],
   "source": [
    "no_of_rows = len(df.index)\n",
    "print('Number of rows when first imported: ' + str(no_of_rows))"
   ]
  },
  {
   "cell_type": "markdown",
   "metadata": {},
   "source": [
    "## Task 2: Change the *date* column to date format YYYY-M (e.g. 2018-1).  Then perform exploratory data analysis on the imported dataset to identify invalid data - write code to remove the impacted rows. Finally, display the number of rows remaining."
   ]
  },
  {
   "cell_type": "markdown",
   "metadata": {},
   "source": [
    "### First, let's perform the validation, so that we can figure out if there is any nonsense (in date as well, before we attempt to change data type)."
   ]
  },
  {
   "cell_type": "code",
   "execution_count": 4,
   "metadata": {
    "ExecuteTime": {
     "start_time": "2023-04-04T00:48:43.231960Z",
     "end_time": "2023-04-04T00:48:43.244090Z"
    }
   },
   "outputs": [],
   "source": [
    "def filter_df_by_regex(df, pattern, field_name, orig_no_of_rows):\n",
    "    new_df = df[df[field_name].apply(lambda x: bool(pattern.match(x)))]\n",
    "    # let's see if anything was filtered out (orig. number of rows\n",
    "    new_no_of_rows = len(new_df.index)\n",
    "    print('Number of rows before filtering: ' + str(orig_no_of_rows))\n",
    "    print('Number of rows after filtering: ' + str(new_no_of_rows))\n",
    "    return new_df, new_no_of_rows"
   ]
  },
  {
   "cell_type": "code",
   "execution_count": 5,
   "metadata": {
    "ExecuteTime": {
     "start_time": "2023-04-04T00:48:43.249491Z",
     "end_time": "2023-04-04T00:48:43.364986Z"
    }
   },
   "outputs": [
    {
     "name": "stdout",
     "output_type": "stream",
     "text": [
      "Number of rows before filtering: 41177\n",
      "Number of rows after filtering: 41157\n"
     ]
    }
   ],
   "source": [
    "# conditions for `date`:\n",
    "# not None/NaN\n",
    "# year is 2018 or 2019, month is 1-12\n",
    "\n",
    "field = 'date'\n",
    "df[field].fillna('', inplace=True)\n",
    "pattern = re.compile(r'^(2018-[1-9]|2018-1[0-2]|2019-[1-9]|2019-1[0-2])$')\n",
    "df, no_of_rows = filter_df_by_regex(df=df, pattern=pattern, field_name=field, orig_no_of_rows=no_of_rows)"
   ]
  },
  {
   "cell_type": "code",
   "execution_count": 6,
   "metadata": {
    "ExecuteTime": {
     "start_time": "2023-04-04T00:48:43.339688Z",
     "end_time": "2023-04-04T00:48:43.398896Z"
    }
   },
   "outputs": [
    {
     "name": "stdout",
     "output_type": "stream",
     "text": [
      "Number of rows before filtering: 41157\n",
      "Number of rows after filtering: 41127\n"
     ]
    }
   ],
   "source": [
    "# `carrier`:\n",
    "# not None/NaN\n",
    "# has 2 characters (letters)\n",
    "\n",
    "# we need to replace NaN with '' to prevent errors when evaluating field\n",
    "field = 'carrier'\n",
    "df[field].fillna('', inplace=True)\n",
    "pattern = re.compile(r'^\\w\\w$')\n",
    "df, no_of_rows = filter_df_by_regex(df=df, pattern=pattern, field_name=field, orig_no_of_rows=no_of_rows)"
   ]
  },
  {
   "cell_type": "code",
   "execution_count": 7,
   "metadata": {
    "ExecuteTime": {
     "start_time": "2023-04-04T00:48:43.383719Z",
     "end_time": "2023-04-04T00:48:43.479906Z"
    }
   },
   "outputs": [
    {
     "name": "stdout",
     "output_type": "stream",
     "text": [
      "Number of rows before filtering: 41127\n",
      "Number of rows after filtering: 41108\n"
     ]
    }
   ],
   "source": [
    "# `airport`:\n",
    "# - has 3 characters\n",
    "# - not None/NaN\n",
    "\n",
    "field = 'airport'\n",
    "df[field].fillna('', inplace=True)\n",
    "pattern = re.compile(r'^\\w\\w\\w$')\n",
    "df, no_of_rows = filter_df_by_regex(df=df, pattern=pattern, field_name=field, orig_no_of_rows=no_of_rows)"
   ]
  },
  {
   "cell_type": "code",
   "execution_count": 8,
   "metadata": {
    "ExecuteTime": {
     "start_time": "2023-04-04T00:48:43.468529Z",
     "end_time": "2023-04-04T00:48:43.598565Z"
    }
   },
   "outputs": [
    {
     "name": "stdout",
     "output_type": "stream",
     "text": [
      "Number of rows before filtering: 41108\n",
      "Number of rows after filtering: 41108\n"
     ]
    }
   ],
   "source": [
    "# `airport_name`:\n",
    "# - is a string of any characters (can include .,/ etc.)\n",
    "# - not None/NaN\n",
    "\n",
    "field = 'airport'\n",
    "df[field].fillna('', inplace=True)\n",
    "pattern = re.compile(r'^..*$')\n",
    "df, no_of_rows = filter_df_by_regex(df=df, pattern=pattern, field_name=field, orig_no_of_rows=no_of_rows)"
   ]
  },
  {
   "cell_type": "code",
   "execution_count": 9,
   "metadata": {
    "ExecuteTime": {
     "start_time": "2023-04-04T00:48:43.511888Z",
     "end_time": "2023-04-04T00:48:43.599064Z"
    }
   },
   "outputs": [],
   "source": [
    "# `arr_flights`:\n",
    "# not NaN (if empty, we assume there were no flights, so we replace by 0)\n",
    "\n",
    "df['arr_flights'].fillna(0, inplace=True)"
   ]
  },
  {
   "cell_type": "code",
   "execution_count": 10,
   "metadata": {
    "ExecuteTime": {
     "start_time": "2023-04-04T00:48:43.512046Z",
     "end_time": "2023-04-04T00:48:43.599262Z"
    }
   },
   "outputs": [],
   "source": [
    "# `arr_del15`:\n",
    "# - not NaN (if so, we assume there were no flights, so we replace by 0)\n",
    "# - smaller than or equal to `arr_flights`\n",
    "\n",
    "df['arr_del15'].fillna(0, inplace=True)\n",
    "df.query(\"arr_del15 <= arr_flights\", inplace=True)"
   ]
  },
  {
   "cell_type": "code",
   "execution_count": 11,
   "metadata": {
    "ExecuteTime": {
     "start_time": "2023-04-04T00:48:43.555677Z",
     "end_time": "2023-04-04T00:48:43.600797Z"
    }
   },
   "outputs": [],
   "source": [
    "# `carrier_ct`:\n",
    "# - smaller than or equal to arr_del15\n",
    "# - not NaN (if so, we assume there were no flights, so we replace by 0)\n",
    "\n",
    "df['carrier_ct'].fillna(0, inplace=True)\n",
    "df.query(\"carrier_ct <= arr_del15\", inplace=True)"
   ]
  },
  {
   "cell_type": "code",
   "execution_count": 12,
   "metadata": {
    "ExecuteTime": {
     "start_time": "2023-04-04T00:48:43.555826Z",
     "end_time": "2023-04-04T00:48:43.601149Z"
    }
   },
   "outputs": [],
   "source": [
    "# `weather_ct`:\n",
    "# - smaller than or equal to arr_del15\n",
    "# - not NaN (if so, we assume there were no flights, so we replace by 0)\n",
    "\n",
    "df['weather_ct'].fillna(0, inplace=True)\n",
    "df.query(\"weather_ct <= arr_del15\", inplace=True)"
   ]
  },
  {
   "cell_type": "code",
   "execution_count": 13,
   "metadata": {
    "ExecuteTime": {
     "start_time": "2023-04-04T00:48:43.555888Z",
     "end_time": "2023-04-04T00:48:43.601396Z"
    }
   },
   "outputs": [],
   "source": [
    "# `nas_ct`:\n",
    "# - smaller than or equal to arr_del15\n",
    "# - not NaN (if so, we assume there were no flights, so we replace by 0)\n",
    "\n",
    "df['nas_ct'].fillna(0, inplace=True)\n",
    "df.query(\"nas_ct <= arr_del15\", inplace=True)"
   ]
  },
  {
   "cell_type": "code",
   "execution_count": 14,
   "metadata": {
    "ExecuteTime": {
     "start_time": "2023-04-04T00:48:43.575164Z",
     "end_time": "2023-04-04T00:48:43.683120Z"
    }
   },
   "outputs": [],
   "source": [
    "# `security_ct`:\n",
    "# - smaller than or equal to arr_del15\n",
    "# - not NaN (if so, we assume there were no flights, so we replace by 0)\n",
    "\n",
    "df['security_ct'].fillna(0, inplace=True)\n",
    "df.query(\"security_ct <= arr_del15\", inplace=True)"
   ]
  },
  {
   "cell_type": "code",
   "execution_count": 15,
   "metadata": {
    "ExecuteTime": {
     "start_time": "2023-04-04T00:48:43.615748Z",
     "end_time": "2023-04-04T00:48:43.729924Z"
    }
   },
   "outputs": [],
   "source": [
    "# `late_aircraft_ct`:\n",
    "# - smaller than or equal to arr_del15\n",
    "# - not NaN (if so, we assume there were no flights, so we replace by 0)\n",
    "\n",
    "df['late_aircraft_ct'].fillna(0, inplace=True)\n",
    "df.query(\"late_aircraft_ct <= arr_del15\", inplace=True)"
   ]
  },
  {
   "cell_type": "code",
   "execution_count": 16,
   "metadata": {
    "ExecuteTime": {
     "start_time": "2023-04-04T00:48:43.615901Z",
     "end_time": "2023-04-04T00:48:43.737363Z"
    }
   },
   "outputs": [],
   "source": [
    "# `arr_cancelled`:\n",
    "# - not NaN (if so, we assume there were no flights, so we replace by 0)\n",
    "\n",
    "df['arr_cancelled'].fillna(0, inplace=True)"
   ]
  },
  {
   "cell_type": "code",
   "execution_count": 17,
   "metadata": {
    "ExecuteTime": {
     "start_time": "2023-04-04T00:48:43.659757Z",
     "end_time": "2023-04-04T00:48:43.737725Z"
    }
   },
   "outputs": [],
   "source": [
    "# `arr_diverted`:\n",
    "# - not NaN (if so, we assume there were no flights, so we replace by 0)\n",
    "\n",
    "df['arr_diverted'].fillna(0, inplace=True)"
   ]
  },
  {
   "cell_type": "code",
   "execution_count": 18,
   "metadata": {
    "ExecuteTime": {
     "start_time": "2023-04-04T00:48:43.659827Z",
     "end_time": "2023-04-04T00:48:43.737877Z"
    }
   },
   "outputs": [],
   "source": [
    "# `arr_delay`:\n",
    "# - not NaN (if so, replace by 0)\n",
    "# - bigger than or equal to `arr_del15` * 15\n",
    "\n",
    "df['arr_delay'].fillna(0, inplace=True)\n",
    "df.query(\"arr_delay >= arr_del15 * 15\", inplace=True)"
   ]
  },
  {
   "cell_type": "code",
   "execution_count": 19,
   "metadata": {
    "ExecuteTime": {
     "start_time": "2023-04-04T00:48:43.659893Z",
     "end_time": "2023-04-04T00:48:43.762287Z"
    }
   },
   "outputs": [],
   "source": [
    "# `carrier_delay`:\n",
    "# - smaller than or equal to `arr_delay`\n",
    "# - bigger than or equal to `carrier_ct` * 15\n",
    "# - also not NaN (if so, replace by 0)\n",
    "\n",
    "df['carrier_delay'].fillna(0, inplace=True)\n",
    "df.query(\"carrier_delay >= carrier_ct * 15\", inplace=True)\n",
    "df.query(\"carrier_delay <= arr_delay\", inplace=True)\n"
   ]
  },
  {
   "cell_type": "code",
   "execution_count": 20,
   "metadata": {
    "ExecuteTime": {
     "start_time": "2023-04-04T00:48:43.703856Z",
     "end_time": "2023-04-04T00:48:43.762748Z"
    }
   },
   "outputs": [],
   "source": [
    "# `weather_delay`:\n",
    "# - not NaN (if so, replace by 0)\n",
    "# - smaller than or equal to `arr_delay`\n",
    "# - bigger than or equal to `weather_ct` * 15\n",
    "\n",
    "df['weather_delay'].fillna(0, inplace=True)\n",
    "df.query(\"weather_delay >= weather_ct * 15\", inplace=True)\n",
    "df.query(\"weather_delay <= arr_delay\", inplace=True)"
   ]
  },
  {
   "cell_type": "code",
   "execution_count": 21,
   "metadata": {
    "ExecuteTime": {
     "start_time": "2023-04-04T00:48:43.704278Z",
     "end_time": "2023-04-04T00:48:43.764025Z"
    }
   },
   "outputs": [],
   "source": [
    "# `nas_delay`:\n",
    "# - not NaN (if so, replace by 0)\n",
    "# - smaller than or equal to `arr_delay`\n",
    "# - bigger than or equal to `nas_ct` * 15\n",
    "\n",
    "df['nas_delay'].fillna(0, inplace=True)\n",
    "df.query(\"nas_delay >= nas_ct * 15\", inplace=True)\n",
    "df.query(\"nas_delay <= arr_delay\", inplace=True)"
   ]
  },
  {
   "cell_type": "code",
   "execution_count": 22,
   "metadata": {
    "ExecuteTime": {
     "start_time": "2023-04-04T00:48:43.735272Z",
     "end_time": "2023-04-04T00:48:43.764825Z"
    }
   },
   "outputs": [],
   "source": [
    "# `security_delay`:\n",
    "# - not NaN (if so, replace by 0)\n",
    "# - smaller than or equal to `arr_delay`\n",
    "# - bigger than or equal to `security_ct` * 15\n",
    "\n",
    "df['security_delay'].fillna(0, inplace=True)\n",
    "df.query(\"security_delay >= security_ct * 15\", inplace=True)\n",
    "df.query(\"security_delay <= arr_delay\", inplace=True)"
   ]
  },
  {
   "cell_type": "code",
   "execution_count": 23,
   "metadata": {
    "ExecuteTime": {
     "start_time": "2023-04-04T00:48:43.761206Z",
     "end_time": "2023-04-04T00:48:43.795205Z"
    }
   },
   "outputs": [],
   "source": [
    "# `late_aircraft_delay`:\n",
    "# - not NaN (if so, replace by 0)\n",
    "# - smaller than or equal to `arr_delay`\n",
    "# - bigger than or equal to `late_aircraft_ct` * 15\n",
    "\n",
    "df['late_aircraft_delay'].fillna(0, inplace=True)\n",
    "df.query(\"late_aircraft_delay >= late_aircraft_ct * 15\", inplace=True)\n",
    "df.query(\"late_aircraft_delay <= arr_delay\", inplace=True)"
   ]
  },
  {
   "cell_type": "markdown",
   "source": [
    "### We can now assume that the `date` column is now cleaned up so there should be no problem going further. Let's change it to datetime64 and put it into a new column (just in case we need to work with it as a datetime64 dtype)."
   ],
   "metadata": {
    "collapsed": false
   }
  },
  {
   "cell_type": "code",
   "execution_count": 24,
   "metadata": {
    "ExecuteTime": {
     "start_time": "2023-04-04T00:48:43.793303Z",
     "end_time": "2023-04-04T00:48:43.839454Z"
    }
   },
   "outputs": [],
   "source": [
    "# we append 01 as day, as we don't have information about days here\n",
    "df['date_as_datetime'] = pd.to_datetime(df['date'] + '-01', format='%Y-%m-%d')"
   ]
  },
  {
   "cell_type": "markdown",
   "metadata": {},
   "source": [
    "## Task 3: Display a list of all Tennessee airports that appear in the dataset"
   ]
  },
  {
   "cell_type": "code",
   "execution_count": 25,
   "metadata": {
    "ExecuteTime": {
     "start_time": "2023-04-04T00:48:43.835705Z",
     "end_time": "2023-04-04T00:48:43.910225Z"
    }
   },
   "outputs": [
    {
     "data": {
      "text/plain": "['Nashville, TN: Nashville International',\n 'Memphis, TN: Memphis International',\n 'Chattanooga, TN: Lovell Field',\n 'Knoxville, TN: McGhee Tyson',\n 'Bristol/Johnson City/Kingsport, TN: Tri Cities']"
     },
     "execution_count": 25,
     "metadata": {},
     "output_type": "execute_result"
    }
   ],
   "source": [
    "# we are looking for \"TN:\" string within airport_name, then we filter out duplicates and transform it into a list\n",
    "df[df.airport_name.str.contains(\"TN:\")]['airport_name'].drop_duplicates().to_list()"
   ]
  },
  {
   "cell_type": "markdown",
   "metadata": {},
   "source": [
    "## Task 4: Import the coordinates dataset and merge it with the existing dataset. Plot the coordinates of all airports on a map (hint: use Matplotlib and Basemap)."
   ]
  },
  {
   "cell_type": "code",
   "execution_count": 26,
   "metadata": {
    "ExecuteTime": {
     "start_time": "2023-04-04T00:48:43.879754Z",
     "end_time": "2023-04-04T00:48:44.009947Z"
    }
   },
   "outputs": [
    {
     "data": {
      "text/plain": "     date carrier carrier_name airport  \\\n0  2018-1      MQ    Envoy Air     BIS   \n1  2018-1      MQ    Envoy Air     BNA   \n2  2018-1      MQ    Envoy Air     BOI   \n3  2018-1      MQ    Envoy Air     BPT   \n4  2018-1      MQ    Envoy Air     BUF   \n5  2018-1      MQ    Envoy Air     BWI   \n6  2018-1      MQ    Envoy Air     BZN   \n7  2018-1      MQ    Envoy Air     CAE   \n8  2018-1      MQ    Envoy Air     CHO   \n9  2018-1      MQ    Envoy Air     CHS   \n\n                                        airport_name  arr_flights  arr_del15  \\\n0            Bismarck/Mandan, ND: Bismarck Municipal          5.0        3.0   \n1             Nashville, TN: Nashville International        110.0       21.0   \n2                      Boise, ID: Boise Air Terminal         32.0        8.0   \n3     Beaumont/Port Arthur, TX: Jack Brooks Regional         63.0       11.0   \n4         Buffalo, NY: Buffalo Niagara International         31.0       12.0   \n5  Baltimore, MD: Baltimore/Washington Internatio...        112.0       40.0   \n6     Bozeman, MT: Bozeman Yellowstone International         36.0        7.0   \n7                Columbia, SC: Columbia Metropolitan         64.0        9.0   \n8     Charlottesville, VA: Charlottesville Albemarle         53.0       16.0   \n9       Charleston, SC: Charleston AFB/International         63.0        4.0   \n\n   carrier_ct  weather_ct  nas_ct  ...  late_aircraft_ct  arr_cancelled  \\\n0        1.00        0.06    1.94  ...              0.00            0.0   \n1        7.17        1.16    6.76  ...              5.92            3.0   \n2        0.22        0.35    5.61  ...              1.82            0.0   \n3        1.75        1.08    2.98  ...              5.19            3.0   \n4        0.82        3.00    6.62  ...              1.55            0.0   \n5        9.43        1.96   12.60  ...             16.01            3.0   \n6        0.83        0.64    4.67  ...              0.86            0.0   \n7        2.31        1.05    2.87  ...              2.77            1.0   \n8        2.76        0.10    2.18  ...             10.00            3.0   \n9        1.51        0.03    0.35  ...              2.11           12.0   \n\n   arr_diverted  arr_delay  carrier_delay  weather_delay  nas_delay  \\\n0           0.0      104.0           54.0            1.0       49.0   \n1           0.0      897.0          344.0           37.0      226.0   \n2           0.0      353.0            9.0           18.0      233.0   \n3           0.0      657.0           83.0           34.0      130.0   \n4           0.0      484.0           27.0          136.0      207.0   \n5           0.0     2198.0          567.0          101.0      553.0   \n6           1.0      227.0           43.0           27.0      115.0   \n7           0.0      611.0          120.0          150.0      100.0   \n8           0.0      696.0          123.0            6.0       72.0   \n9           1.0      291.0          108.0            1.0       12.0   \n\n   security_delay  late_aircraft_delay  date_as_datetime  \n0             0.0                  0.0        2018-01-01  \n1             0.0                290.0        2018-01-01  \n2             0.0                 93.0        2018-01-01  \n3             0.0                410.0        2018-01-01  \n4             0.0                114.0        2018-01-01  \n5             0.0                977.0        2018-01-01  \n6             0.0                 42.0        2018-01-01  \n7             0.0                241.0        2018-01-01  \n8            22.0                473.0        2018-01-01  \n9             0.0                170.0        2018-01-01  \n\n[10 rows x 21 columns]",
      "text/html": "<div>\n<style scoped>\n    .dataframe tbody tr th:only-of-type {\n        vertical-align: middle;\n    }\n\n    .dataframe tbody tr th {\n        vertical-align: top;\n    }\n\n    .dataframe thead th {\n        text-align: right;\n    }\n</style>\n<table border=\"1\" class=\"dataframe\">\n  <thead>\n    <tr style=\"text-align: right;\">\n      <th></th>\n      <th>date</th>\n      <th>carrier</th>\n      <th>carrier_name</th>\n      <th>airport</th>\n      <th>airport_name</th>\n      <th>arr_flights</th>\n      <th>arr_del15</th>\n      <th>carrier_ct</th>\n      <th>weather_ct</th>\n      <th>nas_ct</th>\n      <th>...</th>\n      <th>late_aircraft_ct</th>\n      <th>arr_cancelled</th>\n      <th>arr_diverted</th>\n      <th>arr_delay</th>\n      <th>carrier_delay</th>\n      <th>weather_delay</th>\n      <th>nas_delay</th>\n      <th>security_delay</th>\n      <th>late_aircraft_delay</th>\n      <th>date_as_datetime</th>\n    </tr>\n  </thead>\n  <tbody>\n    <tr>\n      <th>0</th>\n      <td>2018-1</td>\n      <td>MQ</td>\n      <td>Envoy Air</td>\n      <td>BIS</td>\n      <td>Bismarck/Mandan, ND: Bismarck Municipal</td>\n      <td>5.0</td>\n      <td>3.0</td>\n      <td>1.00</td>\n      <td>0.06</td>\n      <td>1.94</td>\n      <td>...</td>\n      <td>0.00</td>\n      <td>0.0</td>\n      <td>0.0</td>\n      <td>104.0</td>\n      <td>54.0</td>\n      <td>1.0</td>\n      <td>49.0</td>\n      <td>0.0</td>\n      <td>0.0</td>\n      <td>2018-01-01</td>\n    </tr>\n    <tr>\n      <th>1</th>\n      <td>2018-1</td>\n      <td>MQ</td>\n      <td>Envoy Air</td>\n      <td>BNA</td>\n      <td>Nashville, TN: Nashville International</td>\n      <td>110.0</td>\n      <td>21.0</td>\n      <td>7.17</td>\n      <td>1.16</td>\n      <td>6.76</td>\n      <td>...</td>\n      <td>5.92</td>\n      <td>3.0</td>\n      <td>0.0</td>\n      <td>897.0</td>\n      <td>344.0</td>\n      <td>37.0</td>\n      <td>226.0</td>\n      <td>0.0</td>\n      <td>290.0</td>\n      <td>2018-01-01</td>\n    </tr>\n    <tr>\n      <th>2</th>\n      <td>2018-1</td>\n      <td>MQ</td>\n      <td>Envoy Air</td>\n      <td>BOI</td>\n      <td>Boise, ID: Boise Air Terminal</td>\n      <td>32.0</td>\n      <td>8.0</td>\n      <td>0.22</td>\n      <td>0.35</td>\n      <td>5.61</td>\n      <td>...</td>\n      <td>1.82</td>\n      <td>0.0</td>\n      <td>0.0</td>\n      <td>353.0</td>\n      <td>9.0</td>\n      <td>18.0</td>\n      <td>233.0</td>\n      <td>0.0</td>\n      <td>93.0</td>\n      <td>2018-01-01</td>\n    </tr>\n    <tr>\n      <th>3</th>\n      <td>2018-1</td>\n      <td>MQ</td>\n      <td>Envoy Air</td>\n      <td>BPT</td>\n      <td>Beaumont/Port Arthur, TX: Jack Brooks Regional</td>\n      <td>63.0</td>\n      <td>11.0</td>\n      <td>1.75</td>\n      <td>1.08</td>\n      <td>2.98</td>\n      <td>...</td>\n      <td>5.19</td>\n      <td>3.0</td>\n      <td>0.0</td>\n      <td>657.0</td>\n      <td>83.0</td>\n      <td>34.0</td>\n      <td>130.0</td>\n      <td>0.0</td>\n      <td>410.0</td>\n      <td>2018-01-01</td>\n    </tr>\n    <tr>\n      <th>4</th>\n      <td>2018-1</td>\n      <td>MQ</td>\n      <td>Envoy Air</td>\n      <td>BUF</td>\n      <td>Buffalo, NY: Buffalo Niagara International</td>\n      <td>31.0</td>\n      <td>12.0</td>\n      <td>0.82</td>\n      <td>3.00</td>\n      <td>6.62</td>\n      <td>...</td>\n      <td>1.55</td>\n      <td>0.0</td>\n      <td>0.0</td>\n      <td>484.0</td>\n      <td>27.0</td>\n      <td>136.0</td>\n      <td>207.0</td>\n      <td>0.0</td>\n      <td>114.0</td>\n      <td>2018-01-01</td>\n    </tr>\n    <tr>\n      <th>5</th>\n      <td>2018-1</td>\n      <td>MQ</td>\n      <td>Envoy Air</td>\n      <td>BWI</td>\n      <td>Baltimore, MD: Baltimore/Washington Internatio...</td>\n      <td>112.0</td>\n      <td>40.0</td>\n      <td>9.43</td>\n      <td>1.96</td>\n      <td>12.60</td>\n      <td>...</td>\n      <td>16.01</td>\n      <td>3.0</td>\n      <td>0.0</td>\n      <td>2198.0</td>\n      <td>567.0</td>\n      <td>101.0</td>\n      <td>553.0</td>\n      <td>0.0</td>\n      <td>977.0</td>\n      <td>2018-01-01</td>\n    </tr>\n    <tr>\n      <th>6</th>\n      <td>2018-1</td>\n      <td>MQ</td>\n      <td>Envoy Air</td>\n      <td>BZN</td>\n      <td>Bozeman, MT: Bozeman Yellowstone International</td>\n      <td>36.0</td>\n      <td>7.0</td>\n      <td>0.83</td>\n      <td>0.64</td>\n      <td>4.67</td>\n      <td>...</td>\n      <td>0.86</td>\n      <td>0.0</td>\n      <td>1.0</td>\n      <td>227.0</td>\n      <td>43.0</td>\n      <td>27.0</td>\n      <td>115.0</td>\n      <td>0.0</td>\n      <td>42.0</td>\n      <td>2018-01-01</td>\n    </tr>\n    <tr>\n      <th>7</th>\n      <td>2018-1</td>\n      <td>MQ</td>\n      <td>Envoy Air</td>\n      <td>CAE</td>\n      <td>Columbia, SC: Columbia Metropolitan</td>\n      <td>64.0</td>\n      <td>9.0</td>\n      <td>2.31</td>\n      <td>1.05</td>\n      <td>2.87</td>\n      <td>...</td>\n      <td>2.77</td>\n      <td>1.0</td>\n      <td>0.0</td>\n      <td>611.0</td>\n      <td>120.0</td>\n      <td>150.0</td>\n      <td>100.0</td>\n      <td>0.0</td>\n      <td>241.0</td>\n      <td>2018-01-01</td>\n    </tr>\n    <tr>\n      <th>8</th>\n      <td>2018-1</td>\n      <td>MQ</td>\n      <td>Envoy Air</td>\n      <td>CHO</td>\n      <td>Charlottesville, VA: Charlottesville Albemarle</td>\n      <td>53.0</td>\n      <td>16.0</td>\n      <td>2.76</td>\n      <td>0.10</td>\n      <td>2.18</td>\n      <td>...</td>\n      <td>10.00</td>\n      <td>3.0</td>\n      <td>0.0</td>\n      <td>696.0</td>\n      <td>123.0</td>\n      <td>6.0</td>\n      <td>72.0</td>\n      <td>22.0</td>\n      <td>473.0</td>\n      <td>2018-01-01</td>\n    </tr>\n    <tr>\n      <th>9</th>\n      <td>2018-1</td>\n      <td>MQ</td>\n      <td>Envoy Air</td>\n      <td>CHS</td>\n      <td>Charleston, SC: Charleston AFB/International</td>\n      <td>63.0</td>\n      <td>4.0</td>\n      <td>1.51</td>\n      <td>0.03</td>\n      <td>0.35</td>\n      <td>...</td>\n      <td>2.11</td>\n      <td>12.0</td>\n      <td>1.0</td>\n      <td>291.0</td>\n      <td>108.0</td>\n      <td>1.0</td>\n      <td>12.0</td>\n      <td>0.0</td>\n      <td>170.0</td>\n      <td>2018-01-01</td>\n    </tr>\n  </tbody>\n</table>\n<p>10 rows × 21 columns</p>\n</div>"
     },
     "execution_count": 26,
     "metadata": {},
     "output_type": "execute_result"
    }
   ],
   "source": [
    "df.head(10)"
   ]
  },
  {
   "cell_type": "code",
   "execution_count": 27,
   "metadata": {
    "ExecuteTime": {
     "start_time": "2023-04-04T00:48:43.935833Z",
     "end_time": "2023-04-04T00:48:44.010512Z"
    }
   },
   "outputs": [
    {
     "data": {
      "text/plain": "    airport        lat      long\n379     BIS  46.778889 -100.7525",
      "text/html": "<div>\n<style scoped>\n    .dataframe tbody tr th:only-of-type {\n        vertical-align: middle;\n    }\n\n    .dataframe tbody tr th {\n        vertical-align: top;\n    }\n\n    .dataframe thead th {\n        text-align: right;\n    }\n</style>\n<table border=\"1\" class=\"dataframe\">\n  <thead>\n    <tr style=\"text-align: right;\">\n      <th></th>\n      <th>airport</th>\n      <th>lat</th>\n      <th>long</th>\n    </tr>\n  </thead>\n  <tbody>\n    <tr>\n      <th>379</th>\n      <td>BIS</td>\n      <td>46.778889</td>\n      <td>-100.7525</td>\n    </tr>\n  </tbody>\n</table>\n</div>"
     },
     "execution_count": 27,
     "metadata": {},
     "output_type": "execute_result"
    }
   ],
   "source": [
    "df_coor = pd.read_csv('airport_coordinates.csv')\n",
    "df_coor.query('airport == \"BIS\"').head(10)"
   ]
  },
  {
   "cell_type": "code",
   "execution_count": 28,
   "metadata": {
    "ExecuteTime": {
     "start_time": "2023-04-04T00:48:43.935942Z",
     "end_time": "2023-04-04T00:48:44.010973Z"
    }
   },
   "outputs": [],
   "source": [
    "df = pd.merge(df, df_coor, left_on='airport', right_on='airport')"
   ]
  },
  {
   "cell_type": "code",
   "execution_count": 29,
   "metadata": {
    "ExecuteTime": {
     "start_time": "2023-04-04T00:48:43.986650Z",
     "end_time": "2023-04-04T00:48:44.084831Z"
    }
   },
   "outputs": [
    {
     "data": {
      "text/plain": "     date carrier           carrier_name airport  \\\n0  2018-1      MQ              Envoy Air     BIS   \n1  2018-1      OO  SkyWest Airlines Inc.     BIS   \n2  2018-1      YV     Mesa Airlines Inc.     BIS   \n3  2018-1      9E      Endeavor Air Inc.     BIS   \n4  2018-1      DL   Delta Air Lines Inc.     BIS   \n5  2018-1      G4          Allegiant Air     BIS   \n6  2018-2      OO  SkyWest Airlines Inc.     BIS   \n7  2018-2      YV     Mesa Airlines Inc.     BIS   \n8  2018-2      DL   Delta Air Lines Inc.     BIS   \n9  2018-2      G4          Allegiant Air     BIS   \n\n                              airport_name  arr_flights  arr_del15  \\\n0  Bismarck/Mandan, ND: Bismarck Municipal          5.0        3.0   \n1  Bismarck/Mandan, ND: Bismarck Municipal        151.0       31.0   \n2  Bismarck/Mandan, ND: Bismarck Municipal         31.0        9.0   \n3  Bismarck/Mandan, ND: Bismarck Municipal          3.0        1.0   \n4  Bismarck/Mandan, ND: Bismarck Municipal         31.0        3.0   \n5  Bismarck/Mandan, ND: Bismarck Municipal         46.0        5.0   \n6  Bismarck/Mandan, ND: Bismarck Municipal        144.0       35.0   \n7  Bismarck/Mandan, ND: Bismarck Municipal         28.0        7.0   \n8  Bismarck/Mandan, ND: Bismarck Municipal         28.0        5.0   \n9  Bismarck/Mandan, ND: Bismarck Municipal         44.0        5.0   \n\n   carrier_ct  weather_ct  nas_ct  ...  arr_diverted  arr_delay  \\\n0        1.00        0.06    1.94  ...           0.0      104.0   \n1       11.77        1.23    7.20  ...           0.0     2541.0   \n2        6.03        0.00    2.10  ...           0.0      385.0   \n3        1.00        0.00    0.00  ...           0.0       23.0   \n4        1.00        1.00    0.22  ...           0.0      104.0   \n5        2.78        0.00    2.22  ...           0.0      194.0   \n6       11.03        1.10    8.86  ...           1.0     2010.0   \n7        2.96        0.96    1.33  ...           1.0      310.0   \n8        4.00        0.00    1.00  ...           0.0      117.0   \n9        1.31        0.00    1.52  ...           1.0      358.0   \n\n   carrier_delay  weather_delay  nas_delay  security_delay  \\\n0           54.0            1.0       49.0             0.0   \n1         1216.0          147.0      318.0             0.0   \n2          258.0            0.0       50.0             0.0   \n3           23.0            0.0        0.0             0.0   \n4           38.0           43.0        5.0             0.0   \n5           97.0            0.0       97.0             0.0   \n6          691.0           28.0      450.0             0.0   \n7           95.0          112.0       32.0             0.0   \n8           99.0            0.0       18.0             0.0   \n9          245.0            0.0       67.0             0.0   \n\n   late_aircraft_delay  date_as_datetime        lat      long  \n0                  0.0        2018-01-01  46.778889 -100.7525  \n1                860.0        2018-01-01  46.778889 -100.7525  \n2                 77.0        2018-01-01  46.778889 -100.7525  \n3                  0.0        2018-01-01  46.778889 -100.7525  \n4                 18.0        2018-01-01  46.778889 -100.7525  \n5                  0.0        2018-01-01  46.778889 -100.7525  \n6                841.0        2018-02-01  46.778889 -100.7525  \n7                 71.0        2018-02-01  46.778889 -100.7525  \n8                  0.0        2018-02-01  46.778889 -100.7525  \n9                 46.0        2018-02-01  46.778889 -100.7525  \n\n[10 rows x 23 columns]",
      "text/html": "<div>\n<style scoped>\n    .dataframe tbody tr th:only-of-type {\n        vertical-align: middle;\n    }\n\n    .dataframe tbody tr th {\n        vertical-align: top;\n    }\n\n    .dataframe thead th {\n        text-align: right;\n    }\n</style>\n<table border=\"1\" class=\"dataframe\">\n  <thead>\n    <tr style=\"text-align: right;\">\n      <th></th>\n      <th>date</th>\n      <th>carrier</th>\n      <th>carrier_name</th>\n      <th>airport</th>\n      <th>airport_name</th>\n      <th>arr_flights</th>\n      <th>arr_del15</th>\n      <th>carrier_ct</th>\n      <th>weather_ct</th>\n      <th>nas_ct</th>\n      <th>...</th>\n      <th>arr_diverted</th>\n      <th>arr_delay</th>\n      <th>carrier_delay</th>\n      <th>weather_delay</th>\n      <th>nas_delay</th>\n      <th>security_delay</th>\n      <th>late_aircraft_delay</th>\n      <th>date_as_datetime</th>\n      <th>lat</th>\n      <th>long</th>\n    </tr>\n  </thead>\n  <tbody>\n    <tr>\n      <th>0</th>\n      <td>2018-1</td>\n      <td>MQ</td>\n      <td>Envoy Air</td>\n      <td>BIS</td>\n      <td>Bismarck/Mandan, ND: Bismarck Municipal</td>\n      <td>5.0</td>\n      <td>3.0</td>\n      <td>1.00</td>\n      <td>0.06</td>\n      <td>1.94</td>\n      <td>...</td>\n      <td>0.0</td>\n      <td>104.0</td>\n      <td>54.0</td>\n      <td>1.0</td>\n      <td>49.0</td>\n      <td>0.0</td>\n      <td>0.0</td>\n      <td>2018-01-01</td>\n      <td>46.778889</td>\n      <td>-100.7525</td>\n    </tr>\n    <tr>\n      <th>1</th>\n      <td>2018-1</td>\n      <td>OO</td>\n      <td>SkyWest Airlines Inc.</td>\n      <td>BIS</td>\n      <td>Bismarck/Mandan, ND: Bismarck Municipal</td>\n      <td>151.0</td>\n      <td>31.0</td>\n      <td>11.77</td>\n      <td>1.23</td>\n      <td>7.20</td>\n      <td>...</td>\n      <td>0.0</td>\n      <td>2541.0</td>\n      <td>1216.0</td>\n      <td>147.0</td>\n      <td>318.0</td>\n      <td>0.0</td>\n      <td>860.0</td>\n      <td>2018-01-01</td>\n      <td>46.778889</td>\n      <td>-100.7525</td>\n    </tr>\n    <tr>\n      <th>2</th>\n      <td>2018-1</td>\n      <td>YV</td>\n      <td>Mesa Airlines Inc.</td>\n      <td>BIS</td>\n      <td>Bismarck/Mandan, ND: Bismarck Municipal</td>\n      <td>31.0</td>\n      <td>9.0</td>\n      <td>6.03</td>\n      <td>0.00</td>\n      <td>2.10</td>\n      <td>...</td>\n      <td>0.0</td>\n      <td>385.0</td>\n      <td>258.0</td>\n      <td>0.0</td>\n      <td>50.0</td>\n      <td>0.0</td>\n      <td>77.0</td>\n      <td>2018-01-01</td>\n      <td>46.778889</td>\n      <td>-100.7525</td>\n    </tr>\n    <tr>\n      <th>3</th>\n      <td>2018-1</td>\n      <td>9E</td>\n      <td>Endeavor Air Inc.</td>\n      <td>BIS</td>\n      <td>Bismarck/Mandan, ND: Bismarck Municipal</td>\n      <td>3.0</td>\n      <td>1.0</td>\n      <td>1.00</td>\n      <td>0.00</td>\n      <td>0.00</td>\n      <td>...</td>\n      <td>0.0</td>\n      <td>23.0</td>\n      <td>23.0</td>\n      <td>0.0</td>\n      <td>0.0</td>\n      <td>0.0</td>\n      <td>0.0</td>\n      <td>2018-01-01</td>\n      <td>46.778889</td>\n      <td>-100.7525</td>\n    </tr>\n    <tr>\n      <th>4</th>\n      <td>2018-1</td>\n      <td>DL</td>\n      <td>Delta Air Lines Inc.</td>\n      <td>BIS</td>\n      <td>Bismarck/Mandan, ND: Bismarck Municipal</td>\n      <td>31.0</td>\n      <td>3.0</td>\n      <td>1.00</td>\n      <td>1.00</td>\n      <td>0.22</td>\n      <td>...</td>\n      <td>0.0</td>\n      <td>104.0</td>\n      <td>38.0</td>\n      <td>43.0</td>\n      <td>5.0</td>\n      <td>0.0</td>\n      <td>18.0</td>\n      <td>2018-01-01</td>\n      <td>46.778889</td>\n      <td>-100.7525</td>\n    </tr>\n    <tr>\n      <th>5</th>\n      <td>2018-1</td>\n      <td>G4</td>\n      <td>Allegiant Air</td>\n      <td>BIS</td>\n      <td>Bismarck/Mandan, ND: Bismarck Municipal</td>\n      <td>46.0</td>\n      <td>5.0</td>\n      <td>2.78</td>\n      <td>0.00</td>\n      <td>2.22</td>\n      <td>...</td>\n      <td>0.0</td>\n      <td>194.0</td>\n      <td>97.0</td>\n      <td>0.0</td>\n      <td>97.0</td>\n      <td>0.0</td>\n      <td>0.0</td>\n      <td>2018-01-01</td>\n      <td>46.778889</td>\n      <td>-100.7525</td>\n    </tr>\n    <tr>\n      <th>6</th>\n      <td>2018-2</td>\n      <td>OO</td>\n      <td>SkyWest Airlines Inc.</td>\n      <td>BIS</td>\n      <td>Bismarck/Mandan, ND: Bismarck Municipal</td>\n      <td>144.0</td>\n      <td>35.0</td>\n      <td>11.03</td>\n      <td>1.10</td>\n      <td>8.86</td>\n      <td>...</td>\n      <td>1.0</td>\n      <td>2010.0</td>\n      <td>691.0</td>\n      <td>28.0</td>\n      <td>450.0</td>\n      <td>0.0</td>\n      <td>841.0</td>\n      <td>2018-02-01</td>\n      <td>46.778889</td>\n      <td>-100.7525</td>\n    </tr>\n    <tr>\n      <th>7</th>\n      <td>2018-2</td>\n      <td>YV</td>\n      <td>Mesa Airlines Inc.</td>\n      <td>BIS</td>\n      <td>Bismarck/Mandan, ND: Bismarck Municipal</td>\n      <td>28.0</td>\n      <td>7.0</td>\n      <td>2.96</td>\n      <td>0.96</td>\n      <td>1.33</td>\n      <td>...</td>\n      <td>1.0</td>\n      <td>310.0</td>\n      <td>95.0</td>\n      <td>112.0</td>\n      <td>32.0</td>\n      <td>0.0</td>\n      <td>71.0</td>\n      <td>2018-02-01</td>\n      <td>46.778889</td>\n      <td>-100.7525</td>\n    </tr>\n    <tr>\n      <th>8</th>\n      <td>2018-2</td>\n      <td>DL</td>\n      <td>Delta Air Lines Inc.</td>\n      <td>BIS</td>\n      <td>Bismarck/Mandan, ND: Bismarck Municipal</td>\n      <td>28.0</td>\n      <td>5.0</td>\n      <td>4.00</td>\n      <td>0.00</td>\n      <td>1.00</td>\n      <td>...</td>\n      <td>0.0</td>\n      <td>117.0</td>\n      <td>99.0</td>\n      <td>0.0</td>\n      <td>18.0</td>\n      <td>0.0</td>\n      <td>0.0</td>\n      <td>2018-02-01</td>\n      <td>46.778889</td>\n      <td>-100.7525</td>\n    </tr>\n    <tr>\n      <th>9</th>\n      <td>2018-2</td>\n      <td>G4</td>\n      <td>Allegiant Air</td>\n      <td>BIS</td>\n      <td>Bismarck/Mandan, ND: Bismarck Municipal</td>\n      <td>44.0</td>\n      <td>5.0</td>\n      <td>1.31</td>\n      <td>0.00</td>\n      <td>1.52</td>\n      <td>...</td>\n      <td>1.0</td>\n      <td>358.0</td>\n      <td>245.0</td>\n      <td>0.0</td>\n      <td>67.0</td>\n      <td>0.0</td>\n      <td>46.0</td>\n      <td>2018-02-01</td>\n      <td>46.778889</td>\n      <td>-100.7525</td>\n    </tr>\n  </tbody>\n</table>\n<p>10 rows × 23 columns</p>\n</div>"
     },
     "execution_count": 29,
     "metadata": {},
     "output_type": "execute_result"
    }
   ],
   "source": [
    "df.head(10)"
   ]
  },
  {
   "cell_type": "code",
   "execution_count": 30,
   "metadata": {
    "ExecuteTime": {
     "start_time": "2023-04-04T00:48:44.002278Z",
     "end_time": "2023-04-04T00:48:45.059931Z"
    }
   },
   "outputs": [
    {
     "data": {
      "text/plain": "<Figure size 2000x1000 with 1 Axes>",
      "image/png": "[encoded data removed]"
     },
     "metadata": {},
     "output_type": "display_data"
    }
   ],
   "source": [
    "fig = plt.gcf()\n",
    "fig.set_size_inches(20, 10)\n",
    "\n",
    "m = Basemap(projection='merc', \\\n",
    "            llcrnrlat=5, urcrnrlat=75, \\\n",
    "            llcrnrlon=-180, urcrnrlon=-35, \\\n",
    "            lat_ts=20, \\\n",
    "            resolution='c')\n",
    "\n",
    "m.readshapefile('st99_d00', name='states', drawbounds=True)\n",
    "\n",
    "# if we don't want to use shapefile, we can draw it on a nice \"realistic\" map\n",
    "# m.bluemarble(scale=0.5)   # full scale will be overkill\n",
    "# m.drawcountries(color='white')\n",
    "# m.drawstates()\n",
    "\n",
    "x, y = m(df['long'], df['lat'])\n",
    "plt.scatter(x, y, 10, marker='o', color='Red')\n",
    "plt.show()"
   ]
  },
  {
   "cell_type": "markdown",
   "metadata": {},
   "source": [
    "## Task 5: Display the number of diverted flights for each carrier-airport pair."
   ]
  },
  {
   "cell_type": "code",
   "execution_count": 31,
   "metadata": {
    "ExecuteTime": {
     "start_time": "2023-04-04T00:48:45.069376Z",
     "end_time": "2023-04-04T00:48:45.169192Z"
    }
   },
   "outputs": [
    {
     "data": {
      "text/plain": "          date carrier   carrier_name airport  \\\n25891   2018-1      G4  Allegiant Air     ABE   \n25897   2018-2      G4  Allegiant Air     ABE   \n25901   2018-3      G4  Allegiant Air     ABE   \n25907   2018-4      G4  Allegiant Air     ABE   \n25913   2018-5      G4  Allegiant Air     ABE   \n25919   2018-6      G4  Allegiant Air     ABE   \n25924   2018-7      G4  Allegiant Air     ABE   \n25932   2018-8      G4  Allegiant Air     ABE   \n25933   2018-9      G4  Allegiant Air     ABE   \n25941  2018-10      G4  Allegiant Air     ABE   \n25947  2018-11      G4  Allegiant Air     ABE   \n25952  2018-12      G4  Allegiant Air     ABE   \n25960   2019-2      G4  Allegiant Air     ABE   \n25966   2019-3      G4  Allegiant Air     ABE   \n25971   2019-4      G4  Allegiant Air     ABE   \n25975   2019-5      G4  Allegiant Air     ABE   \n25984   2019-6      G4  Allegiant Air     ABE   \n25987  2019-12      G4  Allegiant Air     ABE   \n25997   2019-7      G4  Allegiant Air     ABE   \n26004   2019-8      G4  Allegiant Air     ABE   \n26011   2019-9      G4  Allegiant Air     ABE   \n26017  2019-10      G4  Allegiant Air     ABE   \n26023  2019-11      G4  Allegiant Air     ABE   \n26030   2019-1      G4  Allegiant Air     ABE   \n\n                                            airport_name  arr_flights  \\\n25891  Allentown/Bethlehem/Easton, PA: Lehigh Valley ...         59.0   \n25897  Allentown/Bethlehem/Easton, PA: Lehigh Valley ...         67.0   \n25901  Allentown/Bethlehem/Easton, PA: Lehigh Valley ...         92.0   \n25907  Allentown/Bethlehem/Easton, PA: Lehigh Valley ...         81.0   \n25913  Allentown/Bethlehem/Easton, PA: Lehigh Valley ...         82.0   \n25919  Allentown/Bethlehem/Easton, PA: Lehigh Valley ...         94.0   \n25924  Allentown/Bethlehem/Easton, PA: Lehigh Valley ...         95.0   \n25932  Allentown/Bethlehem/Easton, PA: Lehigh Valley ...         95.0   \n25933  Allentown/Bethlehem/Easton, PA: Lehigh Valley ...         53.0   \n25941  Allentown/Bethlehem/Easton, PA: Lehigh Valley ...         69.0   \n25947  Allentown/Bethlehem/Easton, PA: Lehigh Valley ...         62.0   \n25952  Allentown/Bethlehem/Easton, PA: Lehigh Valley ...         61.0   \n25960  Allentown/Bethlehem/Easton, PA: Lehigh Valley ...         69.0   \n25966  Allentown/Bethlehem/Easton, PA: Lehigh Valley ...        104.0   \n25971  Allentown/Bethlehem/Easton, PA: Lehigh Valley ...        106.0   \n25975  Allentown/Bethlehem/Easton, PA: Lehigh Valley ...         95.0   \n25984  Allentown/Bethlehem/Easton, PA: Lehigh Valley ...        122.0   \n25987  Allentown/Bethlehem/Easton, PA: Lehigh Valley ...         90.0   \n25997  Allentown/Bethlehem/Easton, PA: Lehigh Valley ...        139.0   \n26004  Allentown/Bethlehem/Easton, PA: Lehigh Valley ...        125.0   \n26011  Allentown/Bethlehem/Easton, PA: Lehigh Valley ...         67.0   \n26017  Allentown/Bethlehem/Easton, PA: Lehigh Valley ...         88.0   \n26023  Allentown/Bethlehem/Easton, PA: Lehigh Valley ...         92.0   \n26030  Allentown/Bethlehem/Easton, PA: Lehigh Valley ...         55.0   \n\n       arr_del15  carrier_ct  weather_ct  nas_ct  ...  arr_diverted  \\\n25891       13.0        3.69        0.00    2.36  ...           0.0   \n25897       12.0        5.54        1.00    2.32  ...           1.0   \n25901       21.0        7.63        0.88    7.57  ...           0.0   \n25907       11.0        3.64        0.48    3.15  ...           1.0   \n25913       13.0        4.31        0.88    2.51  ...           0.0   \n25919       25.0        8.38        1.42    9.36  ...           0.0   \n25924       29.0        9.27        3.02    7.40  ...           2.0   \n25932       23.0        7.77        7.06    3.24  ...           1.0   \n25933        6.0        0.92        1.81    3.27  ...           2.0   \n25941        8.0        4.98        0.00    0.90  ...           0.0   \n25947        7.0        3.53        0.00    0.68  ...           0.0   \n25952        6.0        2.37        1.00    0.03  ...           0.0   \n25960        3.0        0.44        1.00    0.33  ...           1.0   \n25966       15.0        4.36        0.00    6.81  ...           0.0   \n25971       16.0        4.39        2.00    4.24  ...           0.0   \n25975       18.0        8.88        1.16    4.08  ...           0.0   \n25984       24.0       10.35        3.93    4.11  ...           0.0   \n25987       15.0        6.23        1.06    1.75  ...           0.0   \n25997       18.0        5.92        2.16    5.27  ...           1.0   \n26004       12.0        5.79        1.30    0.75  ...           0.0   \n26011        4.0        1.98        0.00    0.15  ...           0.0   \n26017        9.0        5.75        1.63    0.46  ...           0.0   \n26023       14.0        8.09        0.00    2.40  ...           0.0   \n26030        5.0        1.00        0.00    1.25  ...           0.0   \n\n       arr_delay  carrier_delay  weather_delay  nas_delay  security_delay  \\\n25891      711.0          253.0            0.0       52.0             0.0   \n25897      854.0          378.0           48.0      153.0             0.0   \n25901     1670.0         1138.0           15.0      176.0             0.0   \n25907      514.0           92.0           31.0      190.0             8.0   \n25913      833.0          199.0           42.0      180.0             0.0   \n25919     1448.0          664.0          109.0      320.0             0.0   \n25924     2078.0          708.0          391.0      360.0             0.0   \n25932     2343.0         1200.0          609.0      165.0             0.0   \n25933      231.0           67.0           32.0      132.0             0.0   \n25941      890.0          203.0            0.0       28.0             0.0   \n25947      435.0          309.0            0.0       35.0             0.0   \n25952      313.0           89.0           37.0        4.0             0.0   \n25960      186.0           18.0          103.0       14.0             0.0   \n25966      515.0          164.0            0.0      192.0             0.0   \n25971     1001.0          211.0          430.0      145.0             0.0   \n25975     1032.0          663.0           57.0      147.0             0.0   \n25984     1936.0         1333.0          149.0      112.0             0.0   \n25987      899.0          534.0           22.0       57.0             0.0   \n25997     1563.0          745.0          194.0      186.0             0.0   \n26004     1364.0         1012.0           70.0       40.0             0.0   \n26011      326.0           92.0            0.0       16.0             0.0   \n26017      848.0          757.0           48.0       14.0             0.0   \n26023     1020.0          635.0            0.0      205.0             0.0   \n26030      154.0           29.0            0.0       37.0             0.0   \n\n       late_aircraft_delay  date_as_datetime        lat       long  \n25891                406.0        2018-01-01  40.654722 -75.438333  \n25897                275.0        2018-02-01  40.654722 -75.438333  \n25901                341.0        2018-03-01  40.654722 -75.438333  \n25907                193.0        2018-04-01  40.654722 -75.438333  \n25913                412.0        2018-05-01  40.654722 -75.438333  \n25919                355.0        2018-06-01  40.654722 -75.438333  \n25924                619.0        2018-07-01  40.654722 -75.438333  \n25932                369.0        2018-08-01  40.654722 -75.438333  \n25933                  0.0        2018-09-01  40.654722 -75.438333  \n25941                659.0        2018-10-01  40.654722 -75.438333  \n25947                 91.0        2018-11-01  40.654722 -75.438333  \n25952                183.0        2018-12-01  40.654722 -75.438333  \n25960                 51.0        2019-02-01  40.654722 -75.438333  \n25966                159.0        2019-03-01  40.654722 -75.438333  \n25971                215.0        2019-04-01  40.654722 -75.438333  \n25975                165.0        2019-05-01  40.654722 -75.438333  \n25984                342.0        2019-06-01  40.654722 -75.438333  \n25987                286.0        2019-12-01  40.654722 -75.438333  \n25997                438.0        2019-07-01  40.654722 -75.438333  \n26004                242.0        2019-08-01  40.654722 -75.438333  \n26011                218.0        2019-09-01  40.654722 -75.438333  \n26017                 29.0        2019-10-01  40.654722 -75.438333  \n26023                180.0        2019-11-01  40.654722 -75.438333  \n26030                 88.0        2019-01-01  40.654722 -75.438333  \n\n[24 rows x 23 columns]",
      "text/html": "<div>\n<style scoped>\n    .dataframe tbody tr th:only-of-type {\n        vertical-align: middle;\n    }\n\n    .dataframe tbody tr th {\n        vertical-align: top;\n    }\n\n    .dataframe thead th {\n        text-align: right;\n    }\n</style>\n<table border=\"1\" class=\"dataframe\">\n  <thead>\n    <tr style=\"text-align: right;\">\n      <th></th>\n      <th>date</th>\n      <th>carrier</th>\n      <th>carrier_name</th>\n      <th>airport</th>\n      <th>airport_name</th>\n      <th>arr_flights</th>\n      <th>arr_del15</th>\n      <th>carrier_ct</th>\n      <th>weather_ct</th>\n      <th>nas_ct</th>\n      <th>...</th>\n      <th>arr_diverted</th>\n      <th>arr_delay</th>\n      <th>carrier_delay</th>\n      <th>weather_delay</th>\n      <th>nas_delay</th>\n      <th>security_delay</th>\n      <th>late_aircraft_delay</th>\n      <th>date_as_datetime</th>\n      <th>lat</th>\n      <th>long</th>\n    </tr>\n  </thead>\n  <tbody>\n    <tr>\n      <th>25891</th>\n      <td>2018-1</td>\n      <td>G4</td>\n      <td>Allegiant Air</td>\n      <td>ABE</td>\n      <td>Allentown/Bethlehem/Easton, PA: Lehigh Valley ...</td>\n      <td>59.0</td>\n      <td>13.0</td>\n      <td>3.69</td>\n      <td>0.00</td>\n      <td>2.36</td>\n      <td>...</td>\n      <td>0.0</td>\n      <td>711.0</td>\n      <td>253.0</td>\n      <td>0.0</td>\n      <td>52.0</td>\n      <td>0.0</td>\n      <td>406.0</td>\n      <td>2018-01-01</td>\n      <td>40.654722</td>\n      <td>-75.438333</td>\n    </tr>\n    <tr>\n      <th>25897</th>\n      <td>2018-2</td>\n      <td>G4</td>\n      <td>Allegiant Air</td>\n      <td>ABE</td>\n      <td>Allentown/Bethlehem/Easton, PA: Lehigh Valley ...</td>\n      <td>67.0</td>\n      <td>12.0</td>\n      <td>5.54</td>\n      <td>1.00</td>\n      <td>2.32</td>\n      <td>...</td>\n      <td>1.0</td>\n      <td>854.0</td>\n      <td>378.0</td>\n      <td>48.0</td>\n      <td>153.0</td>\n      <td>0.0</td>\n      <td>275.0</td>\n      <td>2018-02-01</td>\n      <td>40.654722</td>\n      <td>-75.438333</td>\n    </tr>\n    <tr>\n      <th>25901</th>\n      <td>2018-3</td>\n      <td>G4</td>\n      <td>Allegiant Air</td>\n      <td>ABE</td>\n      <td>Allentown/Bethlehem/Easton, PA: Lehigh Valley ...</td>\n      <td>92.0</td>\n      <td>21.0</td>\n      <td>7.63</td>\n      <td>0.88</td>\n      <td>7.57</td>\n      <td>...</td>\n      <td>0.0</td>\n      <td>1670.0</td>\n      <td>1138.0</td>\n      <td>15.0</td>\n      <td>176.0</td>\n      <td>0.0</td>\n      <td>341.0</td>\n      <td>2018-03-01</td>\n      <td>40.654722</td>\n      <td>-75.438333</td>\n    </tr>\n    <tr>\n      <th>25907</th>\n      <td>2018-4</td>\n      <td>G4</td>\n      <td>Allegiant Air</td>\n      <td>ABE</td>\n      <td>Allentown/Bethlehem/Easton, PA: Lehigh Valley ...</td>\n      <td>81.0</td>\n      <td>11.0</td>\n      <td>3.64</td>\n      <td>0.48</td>\n      <td>3.15</td>\n      <td>...</td>\n      <td>1.0</td>\n      <td>514.0</td>\n      <td>92.0</td>\n      <td>31.0</td>\n      <td>190.0</td>\n      <td>8.0</td>\n      <td>193.0</td>\n      <td>2018-04-01</td>\n      <td>40.654722</td>\n      <td>-75.438333</td>\n    </tr>\n    <tr>\n      <th>25913</th>\n      <td>2018-5</td>\n      <td>G4</td>\n      <td>Allegiant Air</td>\n      <td>ABE</td>\n      <td>Allentown/Bethlehem/Easton, PA: Lehigh Valley ...</td>\n      <td>82.0</td>\n      <td>13.0</td>\n      <td>4.31</td>\n      <td>0.88</td>\n      <td>2.51</td>\n      <td>...</td>\n      <td>0.0</td>\n      <td>833.0</td>\n      <td>199.0</td>\n      <td>42.0</td>\n      <td>180.0</td>\n      <td>0.0</td>\n      <td>412.0</td>\n      <td>2018-05-01</td>\n      <td>40.654722</td>\n      <td>-75.438333</td>\n    </tr>\n    <tr>\n      <th>25919</th>\n      <td>2018-6</td>\n      <td>G4</td>\n      <td>Allegiant Air</td>\n      <td>ABE</td>\n      <td>Allentown/Bethlehem/Easton, PA: Lehigh Valley ...</td>\n      <td>94.0</td>\n      <td>25.0</td>\n      <td>8.38</td>\n      <td>1.42</td>\n      <td>9.36</td>\n      <td>...</td>\n      <td>0.0</td>\n      <td>1448.0</td>\n      <td>664.0</td>\n      <td>109.0</td>\n      <td>320.0</td>\n      <td>0.0</td>\n      <td>355.0</td>\n      <td>2018-06-01</td>\n      <td>40.654722</td>\n      <td>-75.438333</td>\n    </tr>\n    <tr>\n      <th>25924</th>\n      <td>2018-7</td>\n      <td>G4</td>\n      <td>Allegiant Air</td>\n      <td>ABE</td>\n      <td>Allentown/Bethlehem/Easton, PA: Lehigh Valley ...</td>\n      <td>95.0</td>\n      <td>29.0</td>\n      <td>9.27</td>\n      <td>3.02</td>\n      <td>7.40</td>\n      <td>...</td>\n      <td>2.0</td>\n      <td>2078.0</td>\n      <td>708.0</td>\n      <td>391.0</td>\n      <td>360.0</td>\n      <td>0.0</td>\n      <td>619.0</td>\n      <td>2018-07-01</td>\n      <td>40.654722</td>\n      <td>-75.438333</td>\n    </tr>\n    <tr>\n      <th>25932</th>\n      <td>2018-8</td>\n      <td>G4</td>\n      <td>Allegiant Air</td>\n      <td>ABE</td>\n      <td>Allentown/Bethlehem/Easton, PA: Lehigh Valley ...</td>\n      <td>95.0</td>\n      <td>23.0</td>\n      <td>7.77</td>\n      <td>7.06</td>\n      <td>3.24</td>\n      <td>...</td>\n      <td>1.0</td>\n      <td>2343.0</td>\n      <td>1200.0</td>\n      <td>609.0</td>\n      <td>165.0</td>\n      <td>0.0</td>\n      <td>369.0</td>\n      <td>2018-08-01</td>\n      <td>40.654722</td>\n      <td>-75.438333</td>\n    </tr>\n    <tr>\n      <th>25933</th>\n      <td>2018-9</td>\n      <td>G4</td>\n      <td>Allegiant Air</td>\n      <td>ABE</td>\n      <td>Allentown/Bethlehem/Easton, PA: Lehigh Valley ...</td>\n      <td>53.0</td>\n      <td>6.0</td>\n      <td>0.92</td>\n      <td>1.81</td>\n      <td>3.27</td>\n      <td>...</td>\n      <td>2.0</td>\n      <td>231.0</td>\n      <td>67.0</td>\n      <td>32.0</td>\n      <td>132.0</td>\n      <td>0.0</td>\n      <td>0.0</td>\n      <td>2018-09-01</td>\n      <td>40.654722</td>\n      <td>-75.438333</td>\n    </tr>\n    <tr>\n      <th>25941</th>\n      <td>2018-10</td>\n      <td>G4</td>\n      <td>Allegiant Air</td>\n      <td>ABE</td>\n      <td>Allentown/Bethlehem/Easton, PA: Lehigh Valley ...</td>\n      <td>69.0</td>\n      <td>8.0</td>\n      <td>4.98</td>\n      <td>0.00</td>\n      <td>0.90</td>\n      <td>...</td>\n      <td>0.0</td>\n      <td>890.0</td>\n      <td>203.0</td>\n      <td>0.0</td>\n      <td>28.0</td>\n      <td>0.0</td>\n      <td>659.0</td>\n      <td>2018-10-01</td>\n      <td>40.654722</td>\n      <td>-75.438333</td>\n    </tr>\n    <tr>\n      <th>25947</th>\n      <td>2018-11</td>\n      <td>G4</td>\n      <td>Allegiant Air</td>\n      <td>ABE</td>\n      <td>Allentown/Bethlehem/Easton, PA: Lehigh Valley ...</td>\n      <td>62.0</td>\n      <td>7.0</td>\n      <td>3.53</td>\n      <td>0.00</td>\n      <td>0.68</td>\n      <td>...</td>\n      <td>0.0</td>\n      <td>435.0</td>\n      <td>309.0</td>\n      <td>0.0</td>\n      <td>35.0</td>\n      <td>0.0</td>\n      <td>91.0</td>\n      <td>2018-11-01</td>\n      <td>40.654722</td>\n      <td>-75.438333</td>\n    </tr>\n    <tr>\n      <th>25952</th>\n      <td>2018-12</td>\n      <td>G4</td>\n      <td>Allegiant Air</td>\n      <td>ABE</td>\n      <td>Allentown/Bethlehem/Easton, PA: Lehigh Valley ...</td>\n      <td>61.0</td>\n      <td>6.0</td>\n      <td>2.37</td>\n      <td>1.00</td>\n      <td>0.03</td>\n      <td>...</td>\n      <td>0.0</td>\n      <td>313.0</td>\n      <td>89.0</td>\n      <td>37.0</td>\n      <td>4.0</td>\n      <td>0.0</td>\n      <td>183.0</td>\n      <td>2018-12-01</td>\n      <td>40.654722</td>\n      <td>-75.438333</td>\n    </tr>\n    <tr>\n      <th>25960</th>\n      <td>2019-2</td>\n      <td>G4</td>\n      <td>Allegiant Air</td>\n      <td>ABE</td>\n      <td>Allentown/Bethlehem/Easton, PA: Lehigh Valley ...</td>\n      <td>69.0</td>\n      <td>3.0</td>\n      <td>0.44</td>\n      <td>1.00</td>\n      <td>0.33</td>\n      <td>...</td>\n      <td>1.0</td>\n      <td>186.0</td>\n      <td>18.0</td>\n      <td>103.0</td>\n      <td>14.0</td>\n      <td>0.0</td>\n      <td>51.0</td>\n      <td>2019-02-01</td>\n      <td>40.654722</td>\n      <td>-75.438333</td>\n    </tr>\n    <tr>\n      <th>25966</th>\n      <td>2019-3</td>\n      <td>G4</td>\n      <td>Allegiant Air</td>\n      <td>ABE</td>\n      <td>Allentown/Bethlehem/Easton, PA: Lehigh Valley ...</td>\n      <td>104.0</td>\n      <td>15.0</td>\n      <td>4.36</td>\n      <td>0.00</td>\n      <td>6.81</td>\n      <td>...</td>\n      <td>0.0</td>\n      <td>515.0</td>\n      <td>164.0</td>\n      <td>0.0</td>\n      <td>192.0</td>\n      <td>0.0</td>\n      <td>159.0</td>\n      <td>2019-03-01</td>\n      <td>40.654722</td>\n      <td>-75.438333</td>\n    </tr>\n    <tr>\n      <th>25971</th>\n      <td>2019-4</td>\n      <td>G4</td>\n      <td>Allegiant Air</td>\n      <td>ABE</td>\n      <td>Allentown/Bethlehem/Easton, PA: Lehigh Valley ...</td>\n      <td>106.0</td>\n      <td>16.0</td>\n      <td>4.39</td>\n      <td>2.00</td>\n      <td>4.24</td>\n      <td>...</td>\n      <td>0.0</td>\n      <td>1001.0</td>\n      <td>211.0</td>\n      <td>430.0</td>\n      <td>145.0</td>\n      <td>0.0</td>\n      <td>215.0</td>\n      <td>2019-04-01</td>\n      <td>40.654722</td>\n      <td>-75.438333</td>\n    </tr>\n    <tr>\n      <th>25975</th>\n      <td>2019-5</td>\n      <td>G4</td>\n      <td>Allegiant Air</td>\n      <td>ABE</td>\n      <td>Allentown/Bethlehem/Easton, PA: Lehigh Valley ...</td>\n      <td>95.0</td>\n      <td>18.0</td>\n      <td>8.88</td>\n      <td>1.16</td>\n      <td>4.08</td>\n      <td>...</td>\n      <td>0.0</td>\n      <td>1032.0</td>\n      <td>663.0</td>\n      <td>57.0</td>\n      <td>147.0</td>\n      <td>0.0</td>\n      <td>165.0</td>\n      <td>2019-05-01</td>\n      <td>40.654722</td>\n      <td>-75.438333</td>\n    </tr>\n    <tr>\n      <th>25984</th>\n      <td>2019-6</td>\n      <td>G4</td>\n      <td>Allegiant Air</td>\n      <td>ABE</td>\n      <td>Allentown/Bethlehem/Easton, PA: Lehigh Valley ...</td>\n      <td>122.0</td>\n      <td>24.0</td>\n      <td>10.35</td>\n      <td>3.93</td>\n      <td>4.11</td>\n      <td>...</td>\n      <td>0.0</td>\n      <td>1936.0</td>\n      <td>1333.0</td>\n      <td>149.0</td>\n      <td>112.0</td>\n      <td>0.0</td>\n      <td>342.0</td>\n      <td>2019-06-01</td>\n      <td>40.654722</td>\n      <td>-75.438333</td>\n    </tr>\n    <tr>\n      <th>25987</th>\n      <td>2019-12</td>\n      <td>G4</td>\n      <td>Allegiant Air</td>\n      <td>ABE</td>\n      <td>Allentown/Bethlehem/Easton, PA: Lehigh Valley ...</td>\n      <td>90.0</td>\n      <td>15.0</td>\n      <td>6.23</td>\n      <td>1.06</td>\n      <td>1.75</td>\n      <td>...</td>\n      <td>0.0</td>\n      <td>899.0</td>\n      <td>534.0</td>\n      <td>22.0</td>\n      <td>57.0</td>\n      <td>0.0</td>\n      <td>286.0</td>\n      <td>2019-12-01</td>\n      <td>40.654722</td>\n      <td>-75.438333</td>\n    </tr>\n    <tr>\n      <th>25997</th>\n      <td>2019-7</td>\n      <td>G4</td>\n      <td>Allegiant Air</td>\n      <td>ABE</td>\n      <td>Allentown/Bethlehem/Easton, PA: Lehigh Valley ...</td>\n      <td>139.0</td>\n      <td>18.0</td>\n      <td>5.92</td>\n      <td>2.16</td>\n      <td>5.27</td>\n      <td>...</td>\n      <td>1.0</td>\n      <td>1563.0</td>\n      <td>745.0</td>\n      <td>194.0</td>\n      <td>186.0</td>\n      <td>0.0</td>\n      <td>438.0</td>\n      <td>2019-07-01</td>\n      <td>40.654722</td>\n      <td>-75.438333</td>\n    </tr>\n    <tr>\n      <th>26004</th>\n      <td>2019-8</td>\n      <td>G4</td>\n      <td>Allegiant Air</td>\n      <td>ABE</td>\n      <td>Allentown/Bethlehem/Easton, PA: Lehigh Valley ...</td>\n      <td>125.0</td>\n      <td>12.0</td>\n      <td>5.79</td>\n      <td>1.30</td>\n      <td>0.75</td>\n      <td>...</td>\n      <td>0.0</td>\n      <td>1364.0</td>\n      <td>1012.0</td>\n      <td>70.0</td>\n      <td>40.0</td>\n      <td>0.0</td>\n      <td>242.0</td>\n      <td>2019-08-01</td>\n      <td>40.654722</td>\n      <td>-75.438333</td>\n    </tr>\n    <tr>\n      <th>26011</th>\n      <td>2019-9</td>\n      <td>G4</td>\n      <td>Allegiant Air</td>\n      <td>ABE</td>\n      <td>Allentown/Bethlehem/Easton, PA: Lehigh Valley ...</td>\n      <td>67.0</td>\n      <td>4.0</td>\n      <td>1.98</td>\n      <td>0.00</td>\n      <td>0.15</td>\n      <td>...</td>\n      <td>0.0</td>\n      <td>326.0</td>\n      <td>92.0</td>\n      <td>0.0</td>\n      <td>16.0</td>\n      <td>0.0</td>\n      <td>218.0</td>\n      <td>2019-09-01</td>\n      <td>40.654722</td>\n      <td>-75.438333</td>\n    </tr>\n    <tr>\n      <th>26017</th>\n      <td>2019-10</td>\n      <td>G4</td>\n      <td>Allegiant Air</td>\n      <td>ABE</td>\n      <td>Allentown/Bethlehem/Easton, PA: Lehigh Valley ...</td>\n      <td>88.0</td>\n      <td>9.0</td>\n      <td>5.75</td>\n      <td>1.63</td>\n      <td>0.46</td>\n      <td>...</td>\n      <td>0.0</td>\n      <td>848.0</td>\n      <td>757.0</td>\n      <td>48.0</td>\n      <td>14.0</td>\n      <td>0.0</td>\n      <td>29.0</td>\n      <td>2019-10-01</td>\n      <td>40.654722</td>\n      <td>-75.438333</td>\n    </tr>\n    <tr>\n      <th>26023</th>\n      <td>2019-11</td>\n      <td>G4</td>\n      <td>Allegiant Air</td>\n      <td>ABE</td>\n      <td>Allentown/Bethlehem/Easton, PA: Lehigh Valley ...</td>\n      <td>92.0</td>\n      <td>14.0</td>\n      <td>8.09</td>\n      <td>0.00</td>\n      <td>2.40</td>\n      <td>...</td>\n      <td>0.0</td>\n      <td>1020.0</td>\n      <td>635.0</td>\n      <td>0.0</td>\n      <td>205.0</td>\n      <td>0.0</td>\n      <td>180.0</td>\n      <td>2019-11-01</td>\n      <td>40.654722</td>\n      <td>-75.438333</td>\n    </tr>\n    <tr>\n      <th>26030</th>\n      <td>2019-1</td>\n      <td>G4</td>\n      <td>Allegiant Air</td>\n      <td>ABE</td>\n      <td>Allentown/Bethlehem/Easton, PA: Lehigh Valley ...</td>\n      <td>55.0</td>\n      <td>5.0</td>\n      <td>1.00</td>\n      <td>0.00</td>\n      <td>1.25</td>\n      <td>...</td>\n      <td>0.0</td>\n      <td>154.0</td>\n      <td>29.0</td>\n      <td>0.0</td>\n      <td>37.0</td>\n      <td>0.0</td>\n      <td>88.0</td>\n      <td>2019-01-01</td>\n      <td>40.654722</td>\n      <td>-75.438333</td>\n    </tr>\n  </tbody>\n</table>\n<p>24 rows × 23 columns</p>\n</div>"
     },
     "execution_count": 31,
     "metadata": {},
     "output_type": "execute_result"
    }
   ],
   "source": [
    "df.query(\"airport == 'ABE' & carrier == 'G4'\")"
   ]
  },
  {
   "cell_type": "code",
   "execution_count": 32,
   "metadata": {
    "ExecuteTime": {
     "start_time": "2023-04-04T00:48:45.147353Z",
     "end_time": "2023-04-04T00:48:45.251125Z"
    }
   },
   "outputs": [
    {
     "data": {
      "text/plain": "carrier    9E   AA    AS   B6   DL   EV   F9   G4 HA    MQ NK   OH    OO   UA  \\\nairport                                                                         \nABE       1.0                  3.0  5.0       9.0      1.0     3.0   5.0        \nABI                                                    8.0                      \nABQ            8.0   0.0  2.0  0.0  3.0  0.0  0.0      1.0          15.0  2.0   \nABR                                                                  7.0        \nABY       3.0                                                        9.0        \n...       ...  ...   ...  ...  ...  ...  ...  ... ..   ... ..  ...   ...  ...   \nWYS                                                                  8.0        \nXNA      10.0  1.0             3.0  9.0  0.0  2.0     15.0     5.0   7.0        \nXWA                                                                  5.0        \nYAK                 23.0                                                        \nYNG                                           0.0                               \n\ncarrier VX    WN    YV   YX  \nairport                      \nABE                          \nABI                          \nABQ         40.0  12.0  0.0  \nABR                          \nABY                          \n...     ..   ...   ...  ...  \nWYS                          \nXNA                1.0  4.0  \nXWA                          \nYAK                          \nYNG                          \n\n[360 rows x 18 columns]",
      "text/html": "<div>\n<style scoped>\n    .dataframe tbody tr th:only-of-type {\n        vertical-align: middle;\n    }\n\n    .dataframe tbody tr th {\n        vertical-align: top;\n    }\n\n    .dataframe thead th {\n        text-align: right;\n    }\n</style>\n<table border=\"1\" class=\"dataframe\">\n  <thead>\n    <tr style=\"text-align: right;\">\n      <th>carrier</th>\n      <th>9E</th>\n      <th>AA</th>\n      <th>AS</th>\n      <th>B6</th>\n      <th>DL</th>\n      <th>EV</th>\n      <th>F9</th>\n      <th>G4</th>\n      <th>HA</th>\n      <th>MQ</th>\n      <th>NK</th>\n      <th>OH</th>\n      <th>OO</th>\n      <th>UA</th>\n      <th>VX</th>\n      <th>WN</th>\n      <th>YV</th>\n      <th>YX</th>\n    </tr>\n    <tr>\n      <th>airport</th>\n      <th></th>\n      <th></th>\n      <th></th>\n      <th></th>\n      <th></th>\n      <th></th>\n      <th></th>\n      <th></th>\n      <th></th>\n      <th></th>\n      <th></th>\n      <th></th>\n      <th></th>\n      <th></th>\n      <th></th>\n      <th></th>\n      <th></th>\n      <th></th>\n    </tr>\n  </thead>\n  <tbody>\n    <tr>\n      <th>ABE</th>\n      <td>1.0</td>\n      <td></td>\n      <td></td>\n      <td></td>\n      <td>3.0</td>\n      <td>5.0</td>\n      <td></td>\n      <td>9.0</td>\n      <td></td>\n      <td>1.0</td>\n      <td></td>\n      <td>3.0</td>\n      <td>5.0</td>\n      <td></td>\n      <td></td>\n      <td></td>\n      <td></td>\n      <td></td>\n    </tr>\n    <tr>\n      <th>ABI</th>\n      <td></td>\n      <td></td>\n      <td></td>\n      <td></td>\n      <td></td>\n      <td></td>\n      <td></td>\n      <td></td>\n      <td></td>\n      <td>8.0</td>\n      <td></td>\n      <td></td>\n      <td></td>\n      <td></td>\n      <td></td>\n      <td></td>\n      <td></td>\n      <td></td>\n    </tr>\n    <tr>\n      <th>ABQ</th>\n      <td></td>\n      <td>8.0</td>\n      <td>0.0</td>\n      <td>2.0</td>\n      <td>0.0</td>\n      <td>3.0</td>\n      <td>0.0</td>\n      <td>0.0</td>\n      <td></td>\n      <td>1.0</td>\n      <td></td>\n      <td></td>\n      <td>15.0</td>\n      <td>2.0</td>\n      <td></td>\n      <td>40.0</td>\n      <td>12.0</td>\n      <td>0.0</td>\n    </tr>\n    <tr>\n      <th>ABR</th>\n      <td></td>\n      <td></td>\n      <td></td>\n      <td></td>\n      <td></td>\n      <td></td>\n      <td></td>\n      <td></td>\n      <td></td>\n      <td></td>\n      <td></td>\n      <td></td>\n      <td>7.0</td>\n      <td></td>\n      <td></td>\n      <td></td>\n      <td></td>\n      <td></td>\n    </tr>\n    <tr>\n      <th>ABY</th>\n      <td>3.0</td>\n      <td></td>\n      <td></td>\n      <td></td>\n      <td></td>\n      <td></td>\n      <td></td>\n      <td></td>\n      <td></td>\n      <td></td>\n      <td></td>\n      <td></td>\n      <td>9.0</td>\n      <td></td>\n      <td></td>\n      <td></td>\n      <td></td>\n      <td></td>\n    </tr>\n    <tr>\n      <th>...</th>\n      <td>...</td>\n      <td>...</td>\n      <td>...</td>\n      <td>...</td>\n      <td>...</td>\n      <td>...</td>\n      <td>...</td>\n      <td>...</td>\n      <td>...</td>\n      <td>...</td>\n      <td>...</td>\n      <td>...</td>\n      <td>...</td>\n      <td>...</td>\n      <td>...</td>\n      <td>...</td>\n      <td>...</td>\n      <td>...</td>\n    </tr>\n    <tr>\n      <th>WYS</th>\n      <td></td>\n      <td></td>\n      <td></td>\n      <td></td>\n      <td></td>\n      <td></td>\n      <td></td>\n      <td></td>\n      <td></td>\n      <td></td>\n      <td></td>\n      <td></td>\n      <td>8.0</td>\n      <td></td>\n      <td></td>\n      <td></td>\n      <td></td>\n      <td></td>\n    </tr>\n    <tr>\n      <th>XNA</th>\n      <td>10.0</td>\n      <td>1.0</td>\n      <td></td>\n      <td></td>\n      <td>3.0</td>\n      <td>9.0</td>\n      <td>0.0</td>\n      <td>2.0</td>\n      <td></td>\n      <td>15.0</td>\n      <td></td>\n      <td>5.0</td>\n      <td>7.0</td>\n      <td></td>\n      <td></td>\n      <td></td>\n      <td>1.0</td>\n      <td>4.0</td>\n    </tr>\n    <tr>\n      <th>XWA</th>\n      <td></td>\n      <td></td>\n      <td></td>\n      <td></td>\n      <td></td>\n      <td></td>\n      <td></td>\n      <td></td>\n      <td></td>\n      <td></td>\n      <td></td>\n      <td></td>\n      <td>5.0</td>\n      <td></td>\n      <td></td>\n      <td></td>\n      <td></td>\n      <td></td>\n    </tr>\n    <tr>\n      <th>YAK</th>\n      <td></td>\n      <td></td>\n      <td>23.0</td>\n      <td></td>\n      <td></td>\n      <td></td>\n      <td></td>\n      <td></td>\n      <td></td>\n      <td></td>\n      <td></td>\n      <td></td>\n      <td></td>\n      <td></td>\n      <td></td>\n      <td></td>\n      <td></td>\n      <td></td>\n    </tr>\n    <tr>\n      <th>YNG</th>\n      <td></td>\n      <td></td>\n      <td></td>\n      <td></td>\n      <td></td>\n      <td></td>\n      <td></td>\n      <td>0.0</td>\n      <td></td>\n      <td></td>\n      <td></td>\n      <td></td>\n      <td></td>\n      <td></td>\n      <td></td>\n      <td></td>\n      <td></td>\n      <td></td>\n    </tr>\n  </tbody>\n</table>\n<p>360 rows × 18 columns</p>\n</div>"
     },
     "execution_count": 32,
     "metadata": {},
     "output_type": "execute_result"
    }
   ],
   "source": [
    "# solution inspired by the provided solution notebook using cross table (contingency table)\n",
    "pd.crosstab(index=df['airport'], columns=df['carrier'], values=df['arr_diverted'], aggfunc='sum').fillna('')"
   ]
  },
  {
   "cell_type": "code",
   "execution_count": 33,
   "metadata": {
    "ExecuteTime": {
     "start_time": "2023-04-04T00:48:45.201699Z",
     "end_time": "2023-04-04T00:48:45.343274Z"
    }
   },
   "outputs": [
    {
     "data": {
      "text/plain": "                 arr_diverted\nairport carrier              \nABE     9E                1.0\n        DL                3.0\n        EV                5.0\n        G4                9.0\n        MQ                1.0\n...                       ...\nXNA     YV                1.0\n        YX                4.0\nXWA     OO                5.0\nYAK     AS               23.0\nYNG     G4                0.0\n\n[2081 rows x 1 columns]",
      "text/html": "<div>\n<style scoped>\n    .dataframe tbody tr th:only-of-type {\n        vertical-align: middle;\n    }\n\n    .dataframe tbody tr th {\n        vertical-align: top;\n    }\n\n    .dataframe thead th {\n        text-align: right;\n    }\n</style>\n<table border=\"1\" class=\"dataframe\">\n  <thead>\n    <tr style=\"text-align: right;\">\n      <th></th>\n      <th></th>\n      <th>arr_diverted</th>\n    </tr>\n    <tr>\n      <th>airport</th>\n      <th>carrier</th>\n      <th></th>\n    </tr>\n  </thead>\n  <tbody>\n    <tr>\n      <th rowspan=\"5\" valign=\"top\">ABE</th>\n      <th>9E</th>\n      <td>1.0</td>\n    </tr>\n    <tr>\n      <th>DL</th>\n      <td>3.0</td>\n    </tr>\n    <tr>\n      <th>EV</th>\n      <td>5.0</td>\n    </tr>\n    <tr>\n      <th>G4</th>\n      <td>9.0</td>\n    </tr>\n    <tr>\n      <th>MQ</th>\n      <td>1.0</td>\n    </tr>\n    <tr>\n      <th>...</th>\n      <th>...</th>\n      <td>...</td>\n    </tr>\n    <tr>\n      <th rowspan=\"2\" valign=\"top\">XNA</th>\n      <th>YV</th>\n      <td>1.0</td>\n    </tr>\n    <tr>\n      <th>YX</th>\n      <td>4.0</td>\n    </tr>\n    <tr>\n      <th>XWA</th>\n      <th>OO</th>\n      <td>5.0</td>\n    </tr>\n    <tr>\n      <th>YAK</th>\n      <th>AS</th>\n      <td>23.0</td>\n    </tr>\n    <tr>\n      <th>YNG</th>\n      <th>G4</th>\n      <td>0.0</td>\n    </tr>\n  </tbody>\n</table>\n<p>2081 rows × 1 columns</p>\n</div>"
     },
     "execution_count": 33,
     "metadata": {},
     "output_type": "execute_result"
    }
   ],
   "source": [
    "df.groupby(['airport', 'carrier']).agg({'arr_diverted': 'sum'})"
   ]
  },
  {
   "cell_type": "markdown",
   "source": [
    "## Task 6: Display how many arrivals into JFK in 2019 encountered both weather and carrier delays?"
   ],
   "metadata": {
    "collapsed": false
   }
  },
  {
   "cell_type": "code",
   "execution_count": 34,
   "metadata": {
    "ExecuteTime": {
     "start_time": "2023-04-04T00:48:45.257960Z",
     "end_time": "2023-04-04T00:48:45.568205Z"
    }
   },
   "outputs": [
    {
     "data": {
      "text/plain": "     date_as_datetime airport  carrier_ct  weather_ct  sum_weather_carrier\n9600       2019-02-01     JFK       44.87        4.67                49.54\n9601       2019-02-01     JFK       84.43        5.46                89.89\n9602       2019-02-01     JFK       20.53        3.43                23.96\n9603       2019-02-01     JFK      239.25        8.09               247.34\n9604       2019-02-01     JFK       79.16       15.02                94.18\n...               ...     ...         ...         ...                  ...\n9698       2019-11-01     JFK       99.28        6.98               106.26\n9699       2019-11-01     JFK        9.48        0.52                10.00\n9700       2019-11-01     JFK       13.31        0.94                14.25\n9701       2019-11-01     JFK       10.74        1.23                11.97\n9702       2019-11-01     JFK        7.95        0.00                 7.95\n\n[103 rows x 5 columns]",
      "text/html": "<div>\n<style scoped>\n    .dataframe tbody tr th:only-of-type {\n        vertical-align: middle;\n    }\n\n    .dataframe tbody tr th {\n        vertical-align: top;\n    }\n\n    .dataframe thead th {\n        text-align: right;\n    }\n</style>\n<table border=\"1\" class=\"dataframe\">\n  <thead>\n    <tr style=\"text-align: right;\">\n      <th></th>\n      <th>date_as_datetime</th>\n      <th>airport</th>\n      <th>carrier_ct</th>\n      <th>weather_ct</th>\n      <th>sum_weather_carrier</th>\n    </tr>\n  </thead>\n  <tbody>\n    <tr>\n      <th>9600</th>\n      <td>2019-02-01</td>\n      <td>JFK</td>\n      <td>44.87</td>\n      <td>4.67</td>\n      <td>49.54</td>\n    </tr>\n    <tr>\n      <th>9601</th>\n      <td>2019-02-01</td>\n      <td>JFK</td>\n      <td>84.43</td>\n      <td>5.46</td>\n      <td>89.89</td>\n    </tr>\n    <tr>\n      <th>9602</th>\n      <td>2019-02-01</td>\n      <td>JFK</td>\n      <td>20.53</td>\n      <td>3.43</td>\n      <td>23.96</td>\n    </tr>\n    <tr>\n      <th>9603</th>\n      <td>2019-02-01</td>\n      <td>JFK</td>\n      <td>239.25</td>\n      <td>8.09</td>\n      <td>247.34</td>\n    </tr>\n    <tr>\n      <th>9604</th>\n      <td>2019-02-01</td>\n      <td>JFK</td>\n      <td>79.16</td>\n      <td>15.02</td>\n      <td>94.18</td>\n    </tr>\n    <tr>\n      <th>...</th>\n      <td>...</td>\n      <td>...</td>\n      <td>...</td>\n      <td>...</td>\n      <td>...</td>\n    </tr>\n    <tr>\n      <th>9698</th>\n      <td>2019-11-01</td>\n      <td>JFK</td>\n      <td>99.28</td>\n      <td>6.98</td>\n      <td>106.26</td>\n    </tr>\n    <tr>\n      <th>9699</th>\n      <td>2019-11-01</td>\n      <td>JFK</td>\n      <td>9.48</td>\n      <td>0.52</td>\n      <td>10.00</td>\n    </tr>\n    <tr>\n      <th>9700</th>\n      <td>2019-11-01</td>\n      <td>JFK</td>\n      <td>13.31</td>\n      <td>0.94</td>\n      <td>14.25</td>\n    </tr>\n    <tr>\n      <th>9701</th>\n      <td>2019-11-01</td>\n      <td>JFK</td>\n      <td>10.74</td>\n      <td>1.23</td>\n      <td>11.97</td>\n    </tr>\n    <tr>\n      <th>9702</th>\n      <td>2019-11-01</td>\n      <td>JFK</td>\n      <td>7.95</td>\n      <td>0.00</td>\n      <td>7.95</td>\n    </tr>\n  </tbody>\n</table>\n<p>103 rows × 5 columns</p>\n</div>"
     },
     "execution_count": 34,
     "metadata": {},
     "output_type": "execute_result"
    }
   ],
   "source": [
    "min_date = '2019-01-01'\n",
    "max_date = '2019-12-31'\n",
    "# first we create a new df that satisfies our conditions (2019, JFK, some carrier or weather delays)\n",
    "df_6 = df.query('( carrier_ct != 0 | weather_ct != 0  ) & airport == \"JFK\" & date_as_datetime <= @max_date & date_as_datetime > @min_date')[['date_as_datetime', 'airport', 'carrier_ct', 'weather_ct']]\n",
    "# now we sum the two columns together and create a new column\n",
    "df_6['sum_weather_carrier'] = df_6['weather_ct'] + df_6['carrier_ct']\n",
    "df_6"
   ]
  },
  {
   "cell_type": "markdown",
   "source": [
    "## Task 7: Display the airline with the most flight cancellations as a percentage of total arriving flights."
   ],
   "metadata": {
    "collapsed": false
   }
  },
  {
   "cell_type": "code",
   "execution_count": 35,
   "outputs": [
    {
     "data": {
      "text/plain": "         arr_cancelled  arr_flights  cancelled_percentage\ncarrier                                                  \nMQ             22065.0     622393.0              3.545188\nEV             11734.0     336973.0              3.482178\nOH             18677.0     567327.0              3.292105\nYV             12218.0     442449.0              2.761448\nYX             17644.0     642187.0              2.747486\nVX               432.0      17490.0              2.469983\n9E             10598.0     502770.0              2.107922\nWN             51790.0    2704925.0              1.914656\nAA             34897.0    1845346.0              1.891082\nF9              4577.0     253879.0              1.802827",
      "text/html": "<div>\n<style scoped>\n    .dataframe tbody tr th:only-of-type {\n        vertical-align: middle;\n    }\n\n    .dataframe tbody tr th {\n        vertical-align: top;\n    }\n\n    .dataframe thead th {\n        text-align: right;\n    }\n</style>\n<table border=\"1\" class=\"dataframe\">\n  <thead>\n    <tr style=\"text-align: right;\">\n      <th></th>\n      <th>arr_cancelled</th>\n      <th>arr_flights</th>\n      <th>cancelled_percentage</th>\n    </tr>\n    <tr>\n      <th>carrier</th>\n      <th></th>\n      <th></th>\n      <th></th>\n    </tr>\n  </thead>\n  <tbody>\n    <tr>\n      <th>MQ</th>\n      <td>22065.0</td>\n      <td>622393.0</td>\n      <td>3.545188</td>\n    </tr>\n    <tr>\n      <th>EV</th>\n      <td>11734.0</td>\n      <td>336973.0</td>\n      <td>3.482178</td>\n    </tr>\n    <tr>\n      <th>OH</th>\n      <td>18677.0</td>\n      <td>567327.0</td>\n      <td>3.292105</td>\n    </tr>\n    <tr>\n      <th>YV</th>\n      <td>12218.0</td>\n      <td>442449.0</td>\n      <td>2.761448</td>\n    </tr>\n    <tr>\n      <th>YX</th>\n      <td>17644.0</td>\n      <td>642187.0</td>\n      <td>2.747486</td>\n    </tr>\n    <tr>\n      <th>VX</th>\n      <td>432.0</td>\n      <td>17490.0</td>\n      <td>2.469983</td>\n    </tr>\n    <tr>\n      <th>9E</th>\n      <td>10598.0</td>\n      <td>502770.0</td>\n      <td>2.107922</td>\n    </tr>\n    <tr>\n      <th>WN</th>\n      <td>51790.0</td>\n      <td>2704925.0</td>\n      <td>1.914656</td>\n    </tr>\n    <tr>\n      <th>AA</th>\n      <td>34897.0</td>\n      <td>1845346.0</td>\n      <td>1.891082</td>\n    </tr>\n    <tr>\n      <th>F9</th>\n      <td>4577.0</td>\n      <td>253879.0</td>\n      <td>1.802827</td>\n    </tr>\n  </tbody>\n</table>\n</div>"
     },
     "execution_count": 35,
     "metadata": {},
     "output_type": "execute_result"
    }
   ],
   "source": [
    "# create a dataset that contains carrier, total number of flights, total number of cancelled flights\n",
    "df_7 = df.groupby(['carrier']).agg({'arr_cancelled': 'sum', 'arr_flights': 'sum'})\n",
    "\n",
    "# calculate percentage that cancelled flights make (out of total flights)\n",
    "df_7['cancelled_percentage'] = df_7['arr_cancelled'] / df_7['arr_flights'] * 100\n",
    "\n",
    "# sort from largest percentage cancellation\n",
    "df_7.sort_values(['cancelled_percentage'], ascending=False, inplace=True)\n",
    "\n",
    "# show the first one\n",
    "df_7.head(10)"
   ],
   "metadata": {
    "collapsed": false,
    "ExecuteTime": {
     "start_time": "2023-04-04T00:48:51.000626Z",
     "end_time": "2023-04-04T00:48:51.341956Z"
    }
   }
  },
  {
   "cell_type": "code",
   "execution_count": 36,
   "metadata": {
    "ExecuteTime": {
     "start_time": "2023-04-04T00:49:35.388124Z",
     "end_time": "2023-04-04T00:49:35.419859Z"
    }
   },
   "outputs": [
    {
     "data": {
      "text/plain": "arr_flights            5.027700e+05\narr_del15              8.819900e+04\ncarrier_ct             2.077362e+04\nweather_ct             3.143920e+03\nnas_ct                 2.996190e+04\nsecurity_ct            3.193000e+01\nlate_aircraft_ct       3.428779e+04\narr_cancelled          1.059800e+04\narr_diverted           1.086000e+03\narr_delay              6.931947e+06\ncarrier_delay          1.793289e+06\nweather_delay          4.670140e+05\nnas_delay              1.874119e+06\nsecurity_delay         1.710000e+03\nlate_aircraft_delay    2.795815e+06\nlat                    9.355890e+04\nlong                  -2.088459e+05\ndtype: float64"
     },
     "execution_count": 36,
     "metadata": {},
     "output_type": "execute_result"
    }
   ],
   "source": [
    "df.query('carrier == \"9E\"').sum(numeric_only=True)"
   ]
  },
  {
   "cell_type": "markdown",
   "source": [
    "## Task 8: Determine the overall average number of delays per airport"
   ],
   "metadata": {
    "collapsed": false
   }
  },
  {
   "cell_type": "code",
   "execution_count": 37,
   "outputs": [
    {
     "name": "stdout",
     "output_type": "stream",
     "text": [
      "Average number of delays of one airport: 7559.141666666666\n"
     ]
    }
   ],
   "source": [
    "# first, we calculate total number of delays, then we divide them by number of airports\n",
    "avg_delays_of_airport = df['arr_del15'].sum() / len(df['airport'].drop_duplicates().index)\n",
    "print('Average number of delays of one airport: ' + str(avg_delays_of_airport))"
   ],
   "metadata": {
    "collapsed": false
   }
  },
  {
   "cell_type": "markdown",
   "source": [
    "## Task 9: Display the three carriers with the lowest number of delayed flights."
   ],
   "metadata": {
    "collapsed": false
   }
  },
  {
   "cell_type": "code",
   "execution_count": 38,
   "outputs": [
    {
     "data": {
      "text/plain": "         arr_del15\ncarrier           \nVX          3392.0\nHA         10964.0\nG4         42648.0",
      "text/html": "<div>\n<style scoped>\n    .dataframe tbody tr th:only-of-type {\n        vertical-align: middle;\n    }\n\n    .dataframe tbody tr th {\n        vertical-align: top;\n    }\n\n    .dataframe thead th {\n        text-align: right;\n    }\n</style>\n<table border=\"1\" class=\"dataframe\">\n  <thead>\n    <tr style=\"text-align: right;\">\n      <th></th>\n      <th>arr_del15</th>\n    </tr>\n    <tr>\n      <th>carrier</th>\n      <th></th>\n    </tr>\n  </thead>\n  <tbody>\n    <tr>\n      <th>VX</th>\n      <td>3392.0</td>\n    </tr>\n    <tr>\n      <th>HA</th>\n      <td>10964.0</td>\n    </tr>\n    <tr>\n      <th>G4</th>\n      <td>42648.0</td>\n    </tr>\n  </tbody>\n</table>\n</div>"
     },
     "execution_count": 38,
     "metadata": {},
     "output_type": "execute_result"
    }
   ],
   "source": [
    "df.groupby(by='carrier').agg({'arr_del15': 'sum'}).sort_values(by='arr_del15').head(3)"
   ],
   "metadata": {
    "collapsed": false
   }
  },
  {
   "cell_type": "code",
   "execution_count": 38,
   "outputs": [],
   "source": [],
   "metadata": {
    "collapsed": false
   }
  },
  {
   "cell_type": "code",
   "execution_count": 38,
   "outputs": [],
   "source": [],
   "metadata": {
    "collapsed": false
   }
  }
 ],
 "metadata": {
  "kernelspec": {
   "display_name": "Python 3 (ipykernel)",
   "language": "python",
   "name": "python3"
  },
  "language_info": {
   "codemirror_mode": {
    "name": "ipython",
    "version": 3
   },
   "file_extension": ".py",
   "mimetype": "text/x-python",
   "name": "python",
   "nbconvert_exporter": "python",
   "pygments_lexer": "ipython3",
   "version": "3.10.7"
  }
 },
 "nbformat": 4,
 "nbformat_minor": 1
}
